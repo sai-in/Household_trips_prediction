{
 "cells": [
  {
   "cell_type": "code",
   "execution_count": null,
   "metadata": {},
   "outputs": [],
   "source": [
    "import pandas as pd                  \n",
    "import numpy as np                \n",
    "import seaborn as sns                \n",
    "import matplotlib.pyplot as plt\n",
    "%matplotlib inline\n",
    "sns.set_style(\"white\")\n",
    "pd.options.mode.chained_assignment = None\n",
    "from sklearn.preprocessing import PowerTransformer\n",
    "import statsmodels.api as sm\n",
    "from statsmodels.sandbox.regression.predstd import wls_prediction_std\n",
    "import scipy.stats"
   ]
  },
  {
   "cell_type": "code",
   "execution_count": null,
   "metadata": {
    "id": "J0DQXxael78s"
   },
   "outputs": [],
   "source": [
    "dataset = pd.read_excel('data.xlsx')\n",
    "df = pd.DataFrame(dataset)"
   ]
  },
  {
   "cell_type": "markdown",
   "metadata": {
    "id": "vvp423T9l78s"
   },
   "source": [
    "### Data Summary: <a name=\"datasummary\"></a>"
   ]
  },
  {
   "cell_type": "code",
   "execution_count": null,
   "metadata": {
    "id": "ex70cB9Nl78t",
    "outputId": "90dc7b75-3466-4512-992c-0277c942c6a3"
   },
   "outputs": [],
   "source": [
    "df.shape"
   ]
  },
  {
   "cell_type": "code",
   "execution_count": null,
   "metadata": {
    "id": "WgSlpcHJl78v",
    "outputId": "84b9a116-d3f0-4677-91a4-663979dc907b"
   },
   "outputs": [],
   "source": [
    "df.head()"
   ]
  },
  {
   "cell_type": "code",
   "execution_count": null,
   "metadata": {
    "id": "ojJiKtlml78w",
    "outputId": "cc05d981-cd6f-49d5-b3a6-7dc7c1820f77"
   },
   "outputs": [],
   "source": [
    "df.tail()"
   ]
  },
  {
   "cell_type": "code",
   "execution_count": null,
   "metadata": {
    "id": "mX1C9xdGl78x",
    "outputId": "db2fcf0a-b5da-419c-92e2-b8197e955861",
    "scrolled": true
   },
   "outputs": [],
   "source": [
    "df.info()"
   ]
  },
  {
   "cell_type": "code",
   "execution_count": null,
   "metadata": {
    "id": "AHUOLXJCl780",
    "outputId": "8e17801f-ecc7-4369-9e91-62f07650e7a3",
    "scrolled": true
   },
   "outputs": [],
   "source": [
    "df.describe().transpose()"
   ]
  },
  {
   "cell_type": "code",
   "execution_count": null,
   "metadata": {
    "id": "_yPB8yqxl781",
    "outputId": "3f1e2ac0-3585-4066-e093-2d70a01595ba",
    "scrolled": false
   },
   "outputs": [],
   "source": [
    "print(df.columns)"
   ]
  },
  {
   "cell_type": "code",
   "execution_count": null,
   "metadata": {
    "id": "JRxiYcrfl782",
    "outputId": "60db43f3-8726-4afa-a7ab-8107382be6e0",
    "scrolled": true
   },
   "outputs": [],
   "source": [
    "df[df<0].count()"
   ]
  },
  {
   "cell_type": "code",
   "execution_count": null,
   "metadata": {
    "id": "id-oKxizl783",
    "outputId": "ee702443-a7ae-4a20-a01d-62f00b8fc2ac",
    "scrolled": false
   },
   "outputs": [],
   "source": [
    "# Finding unique data\n",
    "df.apply(lambda x: len(x.unique()))"
   ]
  },
  {
   "cell_type": "markdown",
   "metadata": {},
   "source": [
    "**-----------------------------------------------------------------------------------------------------------------------------------------------------------------------------------------------------------------**  <a name=\"p1\"></a>"
   ]
  },
  {
   "cell_type": "markdown",
   "metadata": {
    "id": "1aF4bh3El783"
   },
   "source": [
    "## <font color='red'> Problem 1) </font> "
   ]
  },
  {
   "cell_type": "markdown",
   "metadata": {},
   "source": [
    "### Exploratory Data Analysis (EDA):"
   ]
  },
  {
   "cell_type": "markdown",
   "metadata": {},
   "source": [
    "* TRIPER\t\t- Number of trips made by the individual on the given travel day\n",
    "* HHNO \t\t- Unique ID of the household\n",
    "* PERSONNO\t- Unique ID of the individual in the household\n",
    "* DAYNO\t\t- Whether the response is for Day 1 or Day 2\n",
    "* CHANGE\t\t- 1 if the next row is a new individual else 0\n",
    "* TOURNO\t\t- The sequence of the tour for the individual\n",
    "* hhsize\t\t- Number of members in the household\n",
    "* nadult\t\t- Number of adults in the household\n",
    "* nchild\t\t- Number of children in the household\n",
    "* kids1\t\t- the total number of children in the household aged from 0 to 5 years\n",
    "* kids2\t\t- the total number of children in the household aged from 5 to 15 years\n",
    "* kid3\t\t- the total number of children in the household aged from 16 to 18 years\n",
    "* ownrent\t\t- 1 rented, 2 owned, 3 don't know, 4 unspecified\n",
    "* typehome\t- the type of house the surveyed family/individual is staying in\n",
    "* numveh\t\t- Number of vehicles in the household\n",
    "* bicycle\t\t- Number of bicycles in the household\n",
    "* moped\t\t- Number of motorcycles in the households\n",
    "* workers\t\t- Number of workers in the househols\n",
    "* relate\t\t- 0 head, 1 spouse, 2 parents/inlaw, 3 siblings, 4 grandparents, 5 child, 6 aunt/uncle, 7 other relatives, 8 other non relatives, 9 unknown, 9999 not specified\n",
    "* gender\t\t- 1 - male, 2 - female, 3 unknown, 9999 unspecified\n",
    "* age\t\t- Age of the individual\n",
    "* license\t\t- Possess driving license: 1 - yes, 2 - no, 3 unknown, 9999 unspecified\n",
    "* employ\t\t- is the individual employed?: 1 - yes, 2 - no, 3 unknown, 9999 unspecified\n",
    "* student\t\t- is the individual student?: 1 - yes, 2 - no, 3 unknown, 9999 unspecified\n",
    "* ethnic\t\t- the ethnic background of the surveyed individual\n",
    "* disable\t\t- is the individual disabled? 1 - yes, 2 - no, 3 unknown, 9999 unspecified\n",
    "* hhincome\t- 1 Below $10,000\n",
    "\n",
    "\t\t  2 $10,000 to below $15,000\n",
    "          \n",
    "\t\t  3 $15,000 to below $20,000\n",
    "          \n",
    "\t\t  4 $20,000 to below $25,000\n",
    "          \n",
    "\t\t  5 $25,000 to below $30,000\n",
    "          \n",
    "\t\t  6 $30,000 to below $35,000\n",
    "          \n",
    "\t\t  7 $35,000 to below $40,000\n",
    "          \n",
    "\t\t  8 $40,000 to below $45,000\n",
    "          \n",
    "\t\t  9 $45,000 to below $50,000\n",
    "          \n",
    "\t\t  10 $50,000 to below $60,000\n",
    "          \n",
    "\t\t  11 $60,000 to below $75,000\n",
    "          \n",
    "\t\t  12 $75,000 to below $100,000\n",
    "          \n",
    "\t\t  13 $100,000 to below $125,000\n",
    "          \n",
    "\t\t  14 $125,000 to below $150,000\n",
    "          \n",
    "\t\t  15 $150,000 or more\n",
    "          \n",
    "\t\t  16 Missing data\n",
    "          \n",
    "* headmale\t- 1 - If the individual is male and is also head of the familiy, 0 - otherwise\n",
    "* headfema\t- 1 - If the individual is female and is also head of the famility, 0 - otherwise\n",
    "* headempl\t- whether the head of a household is employed or not\n",
    "* hadspous\t- whether the surveyed individual has a spouse or not\n",
    "* spouempl\t- whether the spouse of the surveyed individual is employed or not\n",
    "* retired2\t- whether there are two or more than two retired persons in a household"
   ]
  },
  {
   "cell_type": "code",
   "execution_count": null,
   "metadata": {
    "id": "J0BT7g4Nl785"
   },
   "outputs": [],
   "source": [
    "df.drop([\"DAYNO\",\"HHNO\",\"TOURNO\", 'PERSONNO'], axis=1, inplace = True)"
   ]
  },
  {
   "cell_type": "code",
   "execution_count": null,
   "metadata": {
    "id": "Wn8FiRQxl785"
   },
   "outputs": [],
   "source": [
    "df.hhincome.replace([16,98,99],np.NaN,inplace = True)"
   ]
  },
  {
   "cell_type": "markdown",
   "metadata": {
    "id": "TcBwGng8l786"
   },
   "source": [
    "We will find the Value counts of our Categorical columns-"
   ]
  },
  {
   "cell_type": "code",
   "execution_count": null,
   "metadata": {
    "id": "PmBAEKW6l788",
    "outputId": "aa85af83-6201-47a1-81be-d313dfebb863"
   },
   "outputs": [],
   "source": [
    "df[['ownrent', 'gender', 'license', 'employ', 'student', 'disable', 'headmale', 'headfema', 'headempl', 'hadspous', 'spouempl']].apply(lambda x: x.value_counts())"
   ]
  },
  {
   "cell_type": "code",
   "execution_count": null,
   "metadata": {
    "id": "g1lVa0S8l789"
   },
   "outputs": [],
   "source": [
    "df.replace([9999,99,999],np.NaN,inplace = True)\n",
    "\n",
    "for i in [\"gender\",\"license\",\"employ\",\"student\",\"disable\",'ownrent']:\n",
    "    if i == 'ownrent':\n",
    "         df[i].replace(4,np.NaN, inplace =True)\n",
    "    df[i].replace(3,np.NaN, inplace =True)"
   ]
  },
  {
   "cell_type": "code",
   "execution_count": null,
   "metadata": {
    "id": "lJeftRiDl789",
    "outputId": "7aa8909f-abf0-4b87-e059-1003cb38dbd1"
   },
   "outputs": [],
   "source": [
    "df[['ownrent', 'gender', 'license', 'employ', 'student', 'disable', 'headmale', 'headfema', 'headempl', 'hadspous', 'spouempl']].apply(lambda x: x.value_counts())"
   ]
  },
  {
   "cell_type": "code",
   "execution_count": null,
   "metadata": {
    "id": "92LXxVwll78-",
    "outputId": "6912c3c0-443c-42b5-a285-1d81ef6514f4"
   },
   "outputs": [],
   "source": [
    "# Skewness in the distribution of each variable\n",
    "df.skew()"
   ]
  },
  {
   "cell_type": "code",
   "execution_count": null,
   "metadata": {
    "id": "wbMjAeW8l78_",
    "outputId": "6683c361-500e-451b-e68c-00416737ec63"
   },
   "outputs": [],
   "source": [
    "plt.figure(figsize=(26,12))\n",
    "mask = np.triu(np.ones_like(df.corr(), dtype=bool))\n",
    "sns.heatmap(df.corr(), annot=True, vmin=-1,vmax=1,center=0, mask=mask, cmap='RdBu_r');"
   ]
  },
  {
   "cell_type": "code",
   "execution_count": null,
   "metadata": {
    "scrolled": false
   },
   "outputs": [],
   "source": [
    "sns.catplot(x='ownrent', y='TRIPER', data=df, kind='box');"
   ]
  },
  {
   "cell_type": "code",
   "execution_count": null,
   "metadata": {},
   "outputs": [],
   "source": [
    "sns.catplot(x='gender', y='TRIPER', data=df, kind='box');"
   ]
  },
  {
   "cell_type": "code",
   "execution_count": null,
   "metadata": {
    "id": "UjDmRFMCl79A",
    "outputId": "9d19e5c5-8b2c-47b8-bfe6-fee7dd99bc30"
   },
   "outputs": [],
   "source": [
    "fig, axes = plt.subplots(1, 2, figsize=(12,6))\n",
    "\n",
    "sns.distplot(df[\"nadult\"], ax=axes[0], kde=False);\n",
    "sns.boxplot(df[\"nadult\"], orient=\"vertical\", ax=axes[1], palette = 'Set1')\n",
    "\n",
    "fig.tight_layout(pad=5.0)"
   ]
  },
  {
   "cell_type": "code",
   "execution_count": null,
   "metadata": {
    "id": "QWVmqNngl79B",
    "outputId": "96f355be-ca9f-4198-c118-183539ef2edb"
   },
   "outputs": [],
   "source": [
    "fig, axes = plt.subplots(1, 2, figsize=(12,6))\n",
    "\n",
    "sns.distplot(df[\"age\"], ax=axes[0], kde=False);\n",
    "sns.boxplot(df[\"age\"], orient=\"vertical\", ax=axes[1], palette = 'Set1')\n",
    "\n",
    "fig.tight_layout(pad=5.0)"
   ]
  },
  {
   "cell_type": "code",
   "execution_count": null,
   "metadata": {
    "id": "CaUROTmGl79B",
    "outputId": "9a158986-ab62-4b63-bb9b-e2363b0776a9"
   },
   "outputs": [],
   "source": [
    "fig, axes = plt.subplots(1, 2, figsize=(12,6))\n",
    "\n",
    "sns.distplot(df[\"hhincome\"], ax=axes[0], kde=False);\n",
    "sns.boxplot(df[\"hhincome\"], orient=\"vertical\", ax=axes[1], palette = 'Set1')\n",
    "\n",
    "fig.tight_layout(pad=5.0)"
   ]
  },
  {
   "cell_type": "code",
   "execution_count": null,
   "metadata": {
    "id": "5sgoGtlhl79C",
    "outputId": "76277438-7f25-4123-9e18-707c93bf2f77"
   },
   "outputs": [],
   "source": [
    "fig, axes = plt.subplots(1, 2, figsize=(12,6));\n",
    "\n",
    "sns.countplot(df[\"kids1\"], ax=axes[0]);\n",
    "sns.boxplot(df[\"kids1\"], orient=\"vertical\", ax=axes[1], palette = 'Set1');\n",
    "\n",
    "fig.tight_layout(pad=5.0);"
   ]
  },
  {
   "cell_type": "code",
   "execution_count": null,
   "metadata": {
    "id": "RBKQWUBdl79C"
   },
   "outputs": [],
   "source": [
    "# Dropping 'kids1' since it is not a symmetric distribution with high skewness\n",
    "df.drop([\"kids1\"], axis=1, inplace = True)"
   ]
  },
  {
   "cell_type": "code",
   "execution_count": null,
   "metadata": {
    "id": "eBk9ZuA-l79D",
    "outputId": "0d6208b2-4d8e-42dc-ab72-de93d448bdc9"
   },
   "outputs": [],
   "source": [
    "fig, axes = plt.subplots(1, 2, figsize=(12,6));\n",
    "\n",
    "sns.countplot(df[\"kids2\"], ax=axes[0]);\n",
    "sns.boxplot(df[\"kids2\"], orient=\"vertical\", ax=axes[1], palette = 'Set1');\n",
    "\n",
    "fig.tight_layout(pad=5.0);"
   ]
  },
  {
   "cell_type": "code",
   "execution_count": null,
   "metadata": {
    "id": "WcJgJZigl79D"
   },
   "outputs": [],
   "source": [
    "# Dropping 'kids2' since it is not a symmetric distribution with high skewness\n",
    "df.drop([\"kids2\"], axis=1, inplace = True)"
   ]
  },
  {
   "cell_type": "code",
   "execution_count": null,
   "metadata": {
    "id": "OqPt5NxAl79E",
    "outputId": "a59c7583-8943-4a12-fc49-a147f586b71f"
   },
   "outputs": [],
   "source": [
    "fig, axes = plt.subplots(1, 2, figsize=(12,6));\n",
    "\n",
    "sns.countplot(df[\"kid3\"], ax=axes[0]);\n",
    "sns.boxplot(df[\"kid3\"], orient=\"vertical\", ax=axes[1], palette = 'Set1');\n",
    "\n",
    "fig.tight_layout(pad=5.0);"
   ]
  },
  {
   "cell_type": "code",
   "execution_count": null,
   "metadata": {
    "id": "HlBugl05l79E"
   },
   "outputs": [],
   "source": [
    "# Dropping 'kids3' since it is not a symmetric distribution with high skewness\n",
    "df.drop([\"kid3\"], axis=1, inplace = True)"
   ]
  },
  {
   "cell_type": "code",
   "execution_count": null,
   "metadata": {
    "id": "kZdTTQr4l79F",
    "outputId": "92f09322-8480-480d-aa48-21b74cb135cc"
   },
   "outputs": [],
   "source": [
    "fig, axes = plt.subplots(1, 2, figsize=(12,6));\n",
    "\n",
    "sns.distplot(df[\"bicycle\"], ax=axes[0], kde=False);\n",
    "sns.boxplot(df[\"bicycle\"], orient=\"vertical\", ax=axes[1], palette = 'Set1');\n",
    "\n",
    "fig.tight_layout(pad=5.0);"
   ]
  },
  {
   "cell_type": "code",
   "execution_count": null,
   "metadata": {
    "id": "eWWXuuA8l79F"
   },
   "outputs": [],
   "source": [
    "# Square root transformation to reduce skewness\n",
    "df['bicycle'] = np.sqrt(df['bicycle'])"
   ]
  },
  {
   "cell_type": "code",
   "execution_count": null,
   "metadata": {
    "id": "JDZa0UEol79G",
    "outputId": "62fba8c6-b6ad-450a-8159-fdf7a97cb4cf"
   },
   "outputs": [],
   "source": [
    "fig, axes = plt.subplots(1, 2, figsize=(12,6));\n",
    "\n",
    "sns.distplot(df[\"bicycle\"], ax=axes[0], kde=False);\n",
    "sns.boxplot(df[\"bicycle\"], orient=\"vertical\", ax=axes[1], palette = 'Set1');\n",
    "\n",
    "fig.tight_layout(pad=5.0);"
   ]
  },
  {
   "cell_type": "code",
   "execution_count": null,
   "metadata": {
    "id": "4jAq6N_kl79J",
    "outputId": "51fc3fd2-b9d4-47d6-a242-2e4580fdc23e"
   },
   "outputs": [],
   "source": [
    "fig, axes = plt.subplots(1, 2, figsize=(12,6));\n",
    "\n",
    "sns.countplot(df[\"moped\"], ax=axes[0]);\n",
    "sns.boxplot(df[\"moped\"], orient=\"vertical\", ax=axes[1], palette = 'Set1');\n",
    "\n",
    "fig.tight_layout(pad=5.0);"
   ]
  },
  {
   "cell_type": "code",
   "execution_count": null,
   "metadata": {
    "id": "OdfMTV1wl79K",
    "outputId": "14f71f02-c96e-41a6-a918-d4126665c51a"
   },
   "outputs": [],
   "source": [
    "df['moped'].value_counts()"
   ]
  },
  {
   "cell_type": "code",
   "execution_count": null,
   "metadata": {
    "id": "kJ5fLIqVl79L"
   },
   "outputs": [],
   "source": [
    "df.moped.replace(5,np.NaN,inplace = True)   # Data Cleaning"
   ]
  },
  {
   "cell_type": "code",
   "execution_count": null,
   "metadata": {
    "id": "xdepkC20l79M",
    "outputId": "b623703a-2fba-43c7-c682-7840551208da"
   },
   "outputs": [],
   "source": [
    "df['moped'].value_counts()"
   ]
  },
  {
   "cell_type": "code",
   "execution_count": null,
   "metadata": {
    "id": "4diDhTNBl79M",
    "outputId": "7e82a1b7-71f6-491f-f744-aa78bc09d442"
   },
   "outputs": [],
   "source": [
    "fig, axes = plt.subplots(1, 2, figsize=(12,6));\n",
    "\n",
    "sns.countplot(df[\"moped\"], ax=axes[0]);\n",
    "sns.boxplot(df[\"moped\"], orient=\"vertical\", ax=axes[1], palette = 'Set1');\n",
    "\n",
    "fig.tight_layout(pad=5.0);"
   ]
  },
  {
   "cell_type": "code",
   "execution_count": null,
   "metadata": {
    "id": "rSJYi68fl79N",
    "outputId": "c794bfe0-e8fb-4b8d-ac8e-b5e28563f011"
   },
   "outputs": [],
   "source": [
    "x = df['moped']\n",
    "x1 = np.sqrt(df['moped'])     # Square root transformation\n",
    "x1.skew()"
   ]
  },
  {
   "cell_type": "code",
   "execution_count": null,
   "metadata": {
    "id": "jIYsLmmyl79O"
   },
   "outputs": [],
   "source": [
    "df.drop([\"moped\"], axis=1, inplace = True)"
   ]
  },
  {
   "cell_type": "code",
   "execution_count": null,
   "metadata": {
    "id": "rT1gjOYrl79P",
    "outputId": "ebc50c73-f27a-4e46-960e-9fdb5c7e4091"
   },
   "outputs": [],
   "source": [
    "fig, axes = plt.subplots(1, 2, figsize=(12,6));\n",
    "\n",
    "sns.countplot(df[\"license\"], ax=axes[0]);\n",
    "sns.boxplot(df[\"license\"], orient=\"vertical\", ax=axes[1], palette = 'Set1');\n",
    "\n",
    "fig.tight_layout(pad=5.0);"
   ]
  },
  {
   "cell_type": "code",
   "execution_count": null,
   "metadata": {
    "id": "TRrhzoIYl79P",
    "outputId": "11ac2345-0a2d-4e35-ffb4-ff94a03bc9e3"
   },
   "outputs": [],
   "source": [
    "fig, axes = plt.subplots(1, 2, figsize=(12,6));\n",
    "\n",
    "sns.countplot(df[\"disable\"], ax=axes[0]);\n",
    "sns.boxplot(df[\"disable\"], orient=\"vertical\", ax=axes[1], palette = 'Set1');\n",
    "\n",
    "fig.tight_layout(pad=5.0);"
   ]
  },
  {
   "cell_type": "code",
   "execution_count": null,
   "metadata": {
    "id": "rBQnL2xJl79Q",
    "outputId": "82bf1a96-6373-4767-d5d7-d55108d67909"
   },
   "outputs": [],
   "source": [
    "fig, axes = plt.subplots(1, 2, figsize=(12,6));\n",
    "\n",
    "sns.countplot(df[\"retired2\"], ax=axes[0]);\n",
    "sns.boxplot(df[\"retired2\"], orient=\"vertical\", ax=axes[1], palette = 'Set1');\n",
    "\n",
    "fig.tight_layout(pad=5.0);"
   ]
  },
  {
   "cell_type": "code",
   "execution_count": null,
   "metadata": {
    "id": "3GOXMK1bl79R"
   },
   "outputs": [],
   "source": [
    "# Dropping 'retired2', 'disable' and 'license' as the data is highly unsymmetric and would affect the Model performance\n",
    "df.drop([\"retired2\"], axis=1, inplace = True)\n",
    "df.drop([\"disable\"], axis=1, inplace = True)\n",
    "df.drop([\"license\"], axis=1, inplace = True)"
   ]
  },
  {
   "cell_type": "code",
   "execution_count": null,
   "metadata": {
    "id": "5qclRCj2l79S",
    "outputId": "7dcc5385-799a-4489-fc5d-f39e32209f0f"
   },
   "outputs": [],
   "source": [
    "fig, axes = plt.subplots(1, 2, figsize=(12,6));\n",
    "\n",
    "sns.countplot(df[\"TRIPER\"], ax=axes[0]);\n",
    "sns.boxplot(df[\"TRIPER\"], orient=\"vertical\", ax=axes[1], palette = 'Set1');\n",
    "\n",
    "fig.tight_layout(pad=5.0);"
   ]
  },
  {
   "cell_type": "code",
   "execution_count": null,
   "metadata": {
    "id": "FV1YFIfHl79S",
    "outputId": "ee569d35-7ef5-4323-dce9-85e1216c488b"
   },
   "outputs": [],
   "source": [
    "# Skewness in the distribution of each variable\n",
    "df.skew()"
   ]
  },
  {
   "cell_type": "code",
   "execution_count": null,
   "metadata": {
    "id": "_BkPT4X6l79S",
    "outputId": "69a9aa5b-015f-4daa-bfdf-87a56c904143"
   },
   "outputs": [],
   "source": [
    "plt.figure(figsize=(25,12))\n",
    "mask = np.triu(np.ones_like(df.corr(), dtype=bool))\n",
    "sns.heatmap(df.corr(), annot=True, vmin=-1,vmax=1,center=0, mask=mask, cmap='RdBu_r');"
   ]
  },
  {
   "cell_type": "code",
   "execution_count": null,
   "metadata": {
    "id": "CnPlvFbvl79T"
   },
   "outputs": [],
   "source": [
    "# Dropping the correlated variables:\n",
    "df.drop(['nchild','spouempl','relate','student', 'bicycle', 'ownrent', 'workers'], axis=1, inplace = True)"
   ]
  },
  {
   "cell_type": "code",
   "execution_count": null,
   "metadata": {
    "id": "LR8b45bfl79T",
    "outputId": "1f3eaabe-8f58-4fea-de56-d9380b3e138e",
    "scrolled": false
   },
   "outputs": [],
   "source": [
    "plt.figure(figsize=(25,12))\n",
    "mask = np.triu(np.ones_like(df.corr(), dtype=bool))\n",
    "sns.heatmap(df.corr(), annot=True, vmin=-1,vmax=1,center=0, mask=mask, cmap='RdBu_r');"
   ]
  },
  {
   "cell_type": "code",
   "execution_count": null,
   "metadata": {
    "id": "arlxYDChl79T",
    "outputId": "c3ee438f-9b44-4fb8-de3c-4171e9365ffb"
   },
   "outputs": [],
   "source": [
    "df.columns"
   ]
  },
  {
   "cell_type": "code",
   "execution_count": null,
   "metadata": {
    "id": "z5lOwjdal79U",
    "outputId": "07cff0c0-7df2-49d5-c538-3a88d608b33f"
   },
   "outputs": [],
   "source": [
    "df.describe().T"
   ]
  },
  {
   "cell_type": "markdown",
   "metadata": {},
   "source": [
    "### Ordinary Least Squares (OLS) Regression:"
   ]
  },
  {
   "cell_type": "code",
   "execution_count": null,
   "metadata": {},
   "outputs": [],
   "source": [
    "dfols = df.copy() \n",
    "dfols.columns"
   ]
  },
  {
   "cell_type": "code",
   "execution_count": null,
   "metadata": {},
   "outputs": [],
   "source": [
    "from statsmodels.formula.api import ols\n",
    "import statsmodels.api as sm"
   ]
  },
  {
   "cell_type": "code",
   "execution_count": null,
   "metadata": {},
   "outputs": [],
   "source": [
    "# Full Model\n",
    "model1 = ols(\" TRIPER ~ hhsize + nadult + age + employ + headmale + headfema + gender + hadspous\",dfols).fit()\n",
    "\n",
    "print('***Full Model Results***'.center(80))\n",
    "print()\n",
    "print(model1.summary())\n",
    "\n",
    "print('==============================================================================')\n",
    "\n",
    "anova_table1 = sm.stats.anova_lm(model1)\n",
    "print('ANOVA\\n', anova_table1)"
   ]
  },
  {
   "cell_type": "code",
   "execution_count": null,
   "metadata": {
    "scrolled": false
   },
   "outputs": [],
   "source": [
    "# Reduced Model\n",
    "model2 = ols(\" TRIPER ~ hhsize+ nadult + age + employ + headmale + headfema + gender\",dfols).fit()\n",
    "\n",
    "print('***Reduced Model Results***'.center(80))\n",
    "print()\n",
    "print(model2.summary())\n",
    "\n",
    "print('==============================================================================')\n",
    "\n",
    "anova_table2 = sm.stats.anova_lm(model2)\n",
    "print('ANOVA\\n', anova_table2)"
   ]
  },
  {
   "cell_type": "code",
   "execution_count": null,
   "metadata": {},
   "outputs": [],
   "source": [
    "# Partial F Test:\n",
    "sse_f = anova_table1['sum_sq'][-1]\n",
    "sse_r = anova_table2['sum_sq'][-1]\n",
    "n = 934\n",
    "k = 8\n",
    "l = 7\n",
    "\n",
    "alpha = 0.05\n",
    "F_critical = scipy.stats.f.ppf(q=1-alpha, dfn=k, dfd=(n-k-1))\n",
    "\n",
    "F_stat = ((sse_r - sse_f)/(k-l)/(sse_f/(n-k-1)))\n",
    "\n",
    "print('The F-statistic value is: ', F_stat)\n",
    "print('The Critical F-Statistic is: ', F_critical)\n",
    "\n",
    "\n",
    "\n",
    "if F_stat > F_critical:\n",
    "    print('\\nReject H0: The extra Variables added are useful.')\n",
    "else:\n",
    "    print('\\nThe extra Variables added are not useful according to Partial F-test !!')"
   ]
  },
  {
   "cell_type": "markdown",
   "metadata": {},
   "source": [
    "#### Conclusion:\n",
    "As we can infer from the Partial F test results, the extra variable 'hadspous' does not impact much. \n",
    "\n",
    "Thus, we have our final 7 variables affecting the number of trips:\n",
    "    1. hhsize\n",
    "    2. nadult\n",
    "    3. age\n",
    "    4. employ\n",
    "    5. headmale\n",
    "    6. headfema\n",
    "    7. gender"
   ]
  },
  {
   "cell_type": "markdown",
   "metadata": {},
   "source": [
    "**-----------------------------------------------------------------------------------------------------------------------------------------------------------------------------------------------------------------**  <a name=\"p2\"></a>"
   ]
  },
  {
   "cell_type": "markdown",
   "metadata": {
    "id": "bpeFg8JXl79Y"
   },
   "source": [
    "## <font color='red'> Problem 2) </font> \n",
    "### Model form: Multiple Linear Regression\n",
    "\n",
    "We use the following MLR model with 8 features and a Normally distributed error term. \n",
    "\n",
    "Y = 𝛽0 + 𝛽1𝑋1 + ... 𝛽7𝑋7 + 𝜖,\n",
    "\n",
    "The error term is normally distrubuted as 𝜖∼𝑁(0,𝜎^2)\n",
    "\n",
    "Dependent Variable : Number of trips [TRIPER]\n",
    "\n",
    "Independent variables: 'hhsize', 'nadult', 'age', 'employ', 'headmale','headfema', 'gender'"
   ]
  },
  {
   "cell_type": "code",
   "execution_count": null,
   "metadata": {},
   "outputs": [],
   "source": [
    "dfx = df.drop(['numveh','hhincome','headempl', 'hadspous'], axis=1)\n",
    "\n",
    "def clean_dataset(df):\n",
    "    assert isinstance(df, pd.DataFrame), \"df needs to be a pd.DataFrame\"\n",
    "    df.dropna(inplace=True)\n",
    "    indices_to_keep = ~df.isin([np.nan, np.inf, -np.inf]).any(1)\n",
    "    return df[indices_to_keep].astype(np.float64)\n",
    "\n",
    "clean_dataset(dfx)"
   ]
  },
  {
   "cell_type": "code",
   "execution_count": null,
   "metadata": {},
   "outputs": [],
   "source": [
    "from sklearn.linear_model import LinearRegression\n",
    "LR = LinearRegression()\n",
    "y = dfx['TRIPER']\n",
    "X = dfx.drop(\"TRIPER\",axis=1)\n",
    "mlr = LR.fit(X,y)"
   ]
  },
  {
   "cell_type": "code",
   "execution_count": null,
   "metadata": {},
   "outputs": [],
   "source": [
    "print(\"coefficients: \",np.round(mlr.coef_,3))\n",
    "print(\"intercept: \",round(mlr.intercept_,3))"
   ]
  },
  {
   "cell_type": "code",
   "execution_count": null,
   "metadata": {},
   "outputs": [],
   "source": [
    "y_pre = mlr.predict(X)\n",
    "res = y-y_pre\n",
    "print(round(np.mean(res),3))"
   ]
  },
  {
   "cell_type": "code",
   "execution_count": null,
   "metadata": {
    "scrolled": false
   },
   "outputs": [],
   "source": [
    "obs = np.array(range(len(res)))\n",
    "re = np.array(res)\n",
    "plt.figure(figsize=(10,8))\n",
    "plt.plot(obs,re, c= 'skyblue')\n",
    "plt.axhline(y = np.mean(res),c = \"red\",ls=\"--\")\n",
    "plt.title(\"Residual plot\", c=\"green\")"
   ]
  },
  {
   "cell_type": "markdown",
   "metadata": {},
   "source": [
    "**-----------------------------------------------------------------------------------------------------------------------------------------------------------------------------------------------------------------** <a name=\"p3\"></a>"
   ]
  },
  {
   "cell_type": "markdown",
   "metadata": {},
   "source": [
    "## <font color='red'> Problem 3) </font>  \n",
    "### Estimate the above specification using software and report the three tables:\n",
    "1. Performance measures (R2, R2 adj, etc.)\n",
    "2. ANOVA table\n",
    "3. Coefficient table\n"
   ]
  },
  {
   "cell_type": "code",
   "execution_count": null,
   "metadata": {},
   "outputs": [],
   "source": [
    "from statsmodels.formula.api import ols\n",
    "model = ols(\" TRIPER ~ hhsize + nadult + age + gender + employ + headmale + headfema\",dfols).fit()\n",
    "print(model.summary())"
   ]
  },
  {
   "cell_type": "code",
   "execution_count": null,
   "metadata": {},
   "outputs": [],
   "source": [
    "print('Performmance Measures: \\n') \n",
    "print(\"R-Squared:\", model.rsquared)\n",
    "print(\"Adj R-Squared:\", model.rsquared_adj)"
   ]
  },
  {
   "cell_type": "code",
   "execution_count": null,
   "metadata": {},
   "outputs": [],
   "source": [
    "print(\"mse_model: \",model.mse_model)\n",
    "print(\"mse_resid: \",model.mse_resid)\n",
    "print(\"mse_total: \",model.mse_total)"
   ]
  },
  {
   "cell_type": "code",
   "execution_count": null,
   "metadata": {},
   "outputs": [],
   "source": [
    "print(\"Coefficients:\\n\",model.params)"
   ]
  },
  {
   "cell_type": "code",
   "execution_count": null,
   "metadata": {},
   "outputs": [],
   "source": [
    "import statsmodels.api as sm\n",
    "table = sm.stats.anova_lm(model,type = 2)\n",
    "print(\"ANOVA table: \\n\",table)"
   ]
  },
  {
   "cell_type": "markdown",
   "metadata": {},
   "source": [
    "**-----------------------------------------------------------------------------------------------------------------------------------------------------------------------------------------------------------------**  <a name=\"p4\"></a>"
   ]
  },
  {
   "cell_type": "markdown",
   "metadata": {},
   "source": [
    "## <font color='red'> Problem 4) </font> \n",
    "\n",
    "\n",
    "Assess the goodness of fit of the above specification"
   ]
  },
  {
   "cell_type": "code",
   "execution_count": null,
   "metadata": {},
   "outputs": [],
   "source": [
    "model.resid.plot();"
   ]
  },
  {
   "cell_type": "code",
   "execution_count": null,
   "metadata": {},
   "outputs": [],
   "source": [
    "plt.hist(res,bins=20)\n",
    "plt.xlabel(\"Residuals\")\n",
    "plt.show()"
   ]
  },
  {
   "cell_type": "code",
   "execution_count": null,
   "metadata": {},
   "outputs": [],
   "source": [
    "print(\"R-Squared:\",model.rsquared)"
   ]
  },
  {
   "cell_type": "markdown",
   "metadata": {},
   "source": [
    "R-Squared of the model is 0.26, i.e., only 26% of the variance in number of trips can be explained by the model"
   ]
  },
  {
   "cell_type": "markdown",
   "metadata": {},
   "source": [
    "**-----------------------------------------------------------------------------------------------------------------------------------------------------------------------------------------------------------------** <a name=\"p5\"></a>"
   ]
  },
  {
   "cell_type": "markdown",
   "metadata": {},
   "source": [
    "## <font color='red'> Problem 5) </font> \n",
    "Interpret the signs, magnitudes of the coefficients and discuss whether they are logical"
   ]
  },
  {
   "cell_type": "code",
   "execution_count": null,
   "metadata": {},
   "outputs": [],
   "source": [
    "print(\"Coefficients:\\n\",model.params)"
   ]
  },
  {
   "cell_type": "markdown",
   "metadata": {},
   "source": [
    "**The Interpretation is done as follows:**\n",
    "\n",
    "Independent variables: hhsize, nadult, numveh, headempl, gender, employ, headmale, headfema\n",
    "\n",
    "The respective coefficients are- \n",
    "\n",
    "\n",
    "    1. Intercept = 0.232660 -- The average number of trips by an individual when all the independent variables are zero.\n",
    "\n",
    "    2. hhsize = 0.240639 -- The average number of trips increase by 0.1055 with one unit increase in 'hhsize' while all other variables remain constant. This seems obvious since as the number of people increases, number of trips can surely increase.\n",
    "\n",
    "    3. nadult = -0.572147 -- Number of trips and nadult are negatively related i.e. for one unit increase in nadult and all other variables remain constant the average number of trips decrease by -0.572147. With the increase in number of adults, the number of trips should ideally increase.\n",
    "\n",
    "    4. age = 0.014787 -- The average number of trips increase by 0.014787 with one unit increase in 'age' while all other variables remain constant. As the age increases, there are greater chances of an individual stepping out of the home for travel, thus logical.\n",
    "\n",
    "    5. gender = 0.280917 -- If the person is female, then the average number of trips increase by 0.280917 compared to male if all other variables remains constant.\n",
    "\n",
    "    6. employ = -0.490 -- Number of trips and employ are negatively correlated, i.e., if a person is employed then the average number of trips made by an employed person is 0.490 trips less than an unemployed person given all other variables are constant. This may be true, given that an employed person may not be able to spend most of the time travelling and rather prefer to make as few a trips as possible to save time.\n",
    "\n",
    "    7. headmale = 3.925862 -- Number of trips and headmale are positively correlated. If the head of the family is male then the average number of trips made is 3.925862 trips greater than the individual who is not male or not head of the family.\n",
    "\n",
    "    8. headfema = 3.957972 -- Number of trips and headfema are positively correlated. If the head of the family is female then the average number of trips made is 3.957972 trips greater than the individual who is not female or not head of the family."
   ]
  },
  {
   "cell_type": "markdown",
   "metadata": {},
   "source": [
    "**-----------------------------------------------------------------------------------------------------------------------------------------------------------------------------------------------------------------** <a name=\"p6\"></a>"
   ]
  },
  {
   "cell_type": "markdown",
   "metadata": {},
   "source": [
    "## <font color='red'> Problem 6) </font> \n",
    "Carry out inferential analysis by testing suitable hypothesis. Assess whether the model is statistically significant overall"
   ]
  },
  {
   "cell_type": "markdown",
   "metadata": {},
   "source": [
    "### Hypothesis testing\n",
    "* H0:   β1 = β2 = , ... , = βk = 0 \n",
    "* H1:   βj ≠ 0 for some j"
   ]
  },
  {
   "cell_type": "code",
   "execution_count": null,
   "metadata": {},
   "outputs": [],
   "source": [
    "n = 945\n",
    "k = 8\n",
    "SSE = sum(res**2)\n",
    "MSE = SSE/(n-k-1)\n",
    "MSE"
   ]
  },
  {
   "cell_type": "code",
   "execution_count": null,
   "metadata": {},
   "outputs": [],
   "source": [
    "mean_y = np.mean(y)\n",
    "SSR = sum((y_pre-mean_y)**2)\n",
    "MSR = SSR/k\n",
    "MSR"
   ]
  },
  {
   "cell_type": "code",
   "execution_count": null,
   "metadata": {},
   "outputs": [],
   "source": [
    "F_stat = MSR/MSE\n",
    "print(\"Test statistic:\",F_stat)"
   ]
  },
  {
   "cell_type": "code",
   "execution_count": null,
   "metadata": {},
   "outputs": [],
   "source": [
    "## Critical value calculation\n",
    "alpha = 0.05\n",
    "print(\"Critical value:\",scipy.stats.f.ppf(q=1-alpha, dfn=k, dfd=(n-k-1)))"
   ]
  },
  {
   "cell_type": "markdown",
   "metadata": {},
   "source": [
    "* Since Test statistic = 42.4819 > Critical value = 1.948\n",
    "* We will reject the null hypothesis, there is no evidence to prove all the coefficients\n",
    "* **Conclusion:** The Model is statistically significant."
   ]
  },
  {
   "cell_type": "markdown",
   "metadata": {},
   "source": [
    "### Inference Significance Test\n",
    "* Ho: βi = 0 \n",
    "* Ha: βi ≠ 0 \n",
    "* for i in range(0,p), p = total number of variables"
   ]
  },
  {
   "cell_type": "code",
   "execution_count": null,
   "metadata": {},
   "outputs": [],
   "source": [
    "print(model.summary())"
   ]
  },
  {
   "cell_type": "markdown",
   "metadata": {},
   "source": [
    "The test statistic = t will reject the null hypothesis if  [P>|t|] < 0.05 for  95% confidence interval. else we fail to reject the null hypothesis.\n",
    "* **Conclusion:** From the above table, all the feature variables have P < 0.05 so reject the null hypothesis. i.e., the coefficients of these variables are non zero and there is linear relationship between these varibles and Number of trips."
   ]
  },
  {
   "cell_type": "markdown",
   "metadata": {},
   "source": [
    "**-----------------------------------------------------------------------------------------------------------------------------------------------------------------------------------------------------------------** <a name=\"p7\"></a>"
   ]
  },
  {
   "cell_type": "markdown",
   "metadata": {},
   "source": [
    "## <font color='red'> Problem 7) </font> \n",
    "Carry out an internal validation of the relevant assumptions using suitable plots. Report your findings for each test"
   ]
  },
  {
   "cell_type": "code",
   "execution_count": null,
   "metadata": {},
   "outputs": [],
   "source": [
    "#feaures = X\n",
    "#label = y\n",
    "#model_f = mlr\n",
    "def calculate_residuals(modl, features, label):\n",
    "    predictions = model.predict(features)\n",
    "    df_results = pd.DataFrame({'Actual': label, 'Predicted': predictions})\n",
    "    df_results['Residuals'] = abs(df_results['Actual']) - abs(df_results['Predicted'])\n",
    "    \n",
    "    return pd.DataFrame(df_results)"
   ]
  },
  {
   "cell_type": "code",
   "execution_count": null,
   "metadata": {},
   "outputs": [],
   "source": [
    "df_R = calculate_residuals(mlr,X,y)"
   ]
  },
  {
   "cell_type": "code",
   "execution_count": null,
   "metadata": {},
   "outputs": [],
   "source": [
    "plt.figure(figsize=(14,6))\n",
    "sns.scatterplot(data = df_R, x= \"Actual\",y=\"Predicted\")"
   ]
  },
  {
   "cell_type": "markdown",
   "metadata": {},
   "source": [
    "### Linear assumption"
   ]
  },
  {
   "cell_type": "code",
   "execution_count": null,
   "metadata": {},
   "outputs": [],
   "source": [
    "def linear_assumption(model, features, label):\n",
    "    \"\"\"\n",
    "    Linearity: Assumes that there is a linear relationship between the predictors and\n",
    "               the response variable. If not, either a quadratic term or another\n",
    "               algorithm should be used.\n",
    "    \"\"\"\n",
    "    print('Assumption 1: Linear Relationship between the Target and the Feature', '\\n')\n",
    "        \n",
    "    print('Checking with a scatter plot of actual vs. predicted.',\n",
    "           'Predictions should follow the diagonal line.')\n",
    "    \n",
    "    # Calculating residuals for the plot\n",
    "    df_results = calculate_residuals(model, features, label)\n",
    "    \n",
    "    plt.figure(figsize=(10,7))\n",
    "    # Plotting the actual vs predicted values\n",
    "    sns.lmplot(x='Actual', y='Predicted', data=df_results, fit_reg=False)\n",
    "        \n",
    "    # Plotting the diagonal line\n",
    "    line_coords = np.arange(df_results.min().min(), df_results.max().max())\n",
    "    plt.plot(line_coords, line_coords,  # X and y points\n",
    "             color='darkorange', linestyle='--')\n",
    "    plt.title('Actual vs. Predicted')\n",
    "    plt.show();"
   ]
  },
  {
   "cell_type": "code",
   "execution_count": null,
   "metadata": {},
   "outputs": [],
   "source": [
    "linear_assumption(mlr,X,y)"
   ]
  },
  {
   "cell_type": "markdown",
   "metadata": {},
   "source": [
    "**The above Actual vs Predicted plot shows that the Model is not linear**"
   ]
  },
  {
   "cell_type": "markdown",
   "metadata": {},
   "source": [
    "### Normality of Error Terms"
   ]
  },
  {
   "cell_type": "code",
   "execution_count": null,
   "metadata": {},
   "outputs": [],
   "source": [
    "def normal_errors_assumption(model, features, label, p_value_thresh=0.05):\n",
    "    \"\"\"\n",
    "    Normality: Assumes that the error terms are normally distributed. If they are not,\n",
    "    nonlinear transformations of variables may solve this.\n",
    "               \n",
    "    This assumption being violated primarily causes issues with the confidence intervals\n",
    "    \"\"\"\n",
    "    from statsmodels.stats.diagnostic import normal_ad\n",
    "    print('Assumption 2: The error terms are normally distributed', '\\n')\n",
    "    \n",
    "    # Calculating residuals for the Anderson-Darling test\n",
    "    df_results = calculate_residuals(model, features, label)\n",
    "    \n",
    "    print('Using the Anderson-Darling test for normal distribution')\n",
    "\n",
    "    # Performing the test on the residuals\n",
    "    p_value = normal_ad(df_results['Residuals'])[1]\n",
    "    print('p-value from the test - below 0.05 generally means non-normal:', p_value)\n",
    "    \n",
    "    # Reporting the normality of the residuals\n",
    "    if p_value < p_value_thresh:\n",
    "        print('Residuals are not normally distributed')\n",
    "    else:\n",
    "        print('Residuals are normally distributed')\n",
    "    \n",
    "    # Plotting the residuals distribution\n",
    "    plt.subplots(figsize=(12, 6))\n",
    "    plt.title('Distribution of Residuals')\n",
    "    sns.distplot(df_results['Residuals'])\n",
    "    plt.show()\n",
    "    \n",
    "    print()\n",
    "    if p_value > p_value_thresh:\n",
    "        print('Assumption satisfied')\n",
    "    else:\n",
    "        print('Assumption not satisfied')\n",
    "        print()\n",
    "        print('Confidence intervals will likely be affected')\n",
    "        print('Try performing nonlinear transformations on variables')"
   ]
  },
  {
   "cell_type": "code",
   "execution_count": null,
   "metadata": {},
   "outputs": [],
   "source": [
    "normal_errors_assumption(mlr, X,y,p_value_thresh=0.05)"
   ]
  },
  {
   "cell_type": "markdown",
   "metadata": {},
   "source": [
    "### Homescedasticity"
   ]
  },
  {
   "cell_type": "code",
   "execution_count": null,
   "metadata": {},
   "outputs": [],
   "source": [
    "def homoscedasticity_assumption(model, features, label):\n",
    "    \"\"\"\n",
    "    Homoscedasticity: Assumes that the errors exhibit constant variance\n",
    "    \"\"\"\n",
    "    print('Assumption 3: Homoscedasticity of Error Terms', '\\n')\n",
    "    \n",
    "    print('Residuals should have relative constant variance')\n",
    "        \n",
    "    # Calculating residuals for the plot\n",
    "    df_results = calculate_residuals(model, features, label)\n",
    "\n",
    "    # Plotting the residuals\n",
    "    plt.subplots(figsize=(12, 6))\n",
    "    ax = plt.subplot(111)  # To remove spines\n",
    "    plt.scatter(x=df_results.index, y=df_results.Residuals, alpha=0.5)\n",
    "    plt.plot(np.repeat(0, df_results.index.max()), color='darkorange', linestyle='--')\n",
    "    ax.spines['right'].set_visible(False)  # Removing the right spine\n",
    "    ax.spines['top'].set_visible(False)  # Removing the top spine\n",
    "    plt.title('Residuals')\n",
    "    plt.show()  "
   ]
  },
  {
   "cell_type": "code",
   "execution_count": null,
   "metadata": {},
   "outputs": [],
   "source": [
    "homoscedasticity_assumption(mlr, X,y)"
   ]
  },
  {
   "cell_type": "markdown",
   "metadata": {},
   "source": [
    "**-----------------------------------------------------------------------------------------------------------------------------------------------------------------------------------------------------------------** <a name=\"p8\"></a>"
   ]
  },
  {
   "cell_type": "markdown",
   "metadata": {},
   "source": [
    "## <font color='red'> Problem 8) </font> \n",
    "Perform an external validation of the above specification"
   ]
  },
  {
   "cell_type": "code",
   "execution_count": null,
   "metadata": {},
   "outputs": [],
   "source": [
    "testset = pd.read_excel('Prediction.xlsx')\n",
    "test = pd.DataFrame(dataset)"
   ]
  },
  {
   "cell_type": "code",
   "execution_count": null,
   "metadata": {},
   "outputs": [],
   "source": [
    "df.columns"
   ]
  },
  {
   "cell_type": "code",
   "execution_count": null,
   "metadata": {},
   "outputs": [],
   "source": [
    "test.columns"
   ]
  },
  {
   "cell_type": "code",
   "execution_count": null,
   "metadata": {},
   "outputs": [],
   "source": [
    "test_df = test[list(df.columns)]"
   ]
  },
  {
   "cell_type": "code",
   "execution_count": null,
   "metadata": {},
   "outputs": [],
   "source": [
    "test.head()"
   ]
  },
  {
   "cell_type": "code",
   "execution_count": null,
   "metadata": {},
   "outputs": [],
   "source": [
    "test_df.describe().transpose()"
   ]
  },
  {
   "cell_type": "code",
   "execution_count": null,
   "metadata": {},
   "outputs": [],
   "source": [
    "test_df.replace([9999,999,99],np.NaN,inplace =True)"
   ]
  },
  {
   "cell_type": "code",
   "execution_count": null,
   "metadata": {},
   "outputs": [],
   "source": [
    "test_df.dropna(inplace=True)"
   ]
  },
  {
   "cell_type": "code",
   "execution_count": null,
   "metadata": {},
   "outputs": [],
   "source": [
    "test_df.isnull().sum()"
   ]
  },
  {
   "cell_type": "code",
   "execution_count": null,
   "metadata": {},
   "outputs": [],
   "source": [
    "test_X = test_df[X.columns]\n",
    "test_y = test_df.TRIPER"
   ]
  },
  {
   "cell_type": "code",
   "execution_count": null,
   "metadata": {},
   "outputs": [],
   "source": [
    "test_pre = mlr.predict(test_X)\n",
    "print(\"Test Data R-Squared: \",mlr.score(test_X,test_y))"
   ]
  },
  {
   "cell_type": "code",
   "execution_count": null,
   "metadata": {},
   "outputs": [],
   "source": [
    "test_model = ols(\" TRIPER ~ hhsize+ nadult + numveh+headempl+ gender+ employ + headmale + headfema\",test_df).fit()\n",
    "print(test_model.summary())"
   ]
  },
  {
   "cell_type": "markdown",
   "metadata": {},
   "source": [
    "* R-squared value of the Training Dataset is 0.266\n",
    "* R-squared value of the Test Data by the training Model is 0.258"
   ]
  },
  {
   "cell_type": "markdown",
   "metadata": {},
   "source": [
    "**-----------------------------------------------------------------------------------------------------------------------------------------------------------------------------------------------------------------** <a name=\"p9\"></a>"
   ]
  },
  {
   "cell_type": "markdown",
   "metadata": {},
   "source": [
    "## <font color='red'> Problem 9) </font> \n",
    "Develop two other non-linear specifications of the above model and choose the best specification. Justify your choice"
   ]
  },
  {
   "cell_type": "code",
   "execution_count": null,
   "metadata": {},
   "outputs": [],
   "source": [
    "from sklearn.linear_model import LinearRegression\n",
    "from sklearn.preprocessing import PolynomialFeatures\n",
    "plr = LinearRegression()\n",
    "poly = PolynomialFeatures(degree = 2)\n",
    "x_poly = poly.fit_transform(X)\n",
    "test_x = poly.transform(test_X)\n",
    "plr.fit(x_poly,y)\n",
    "\n",
    "print(\"Training error\",plr.score(x_poly,y))\n",
    "print(\"Test error\",plr.score(test_x,test_y))"
   ]
  },
  {
   "cell_type": "code",
   "execution_count": null,
   "metadata": {},
   "outputs": [],
   "source": [
    "P_model = sm.OLS(y,x_poly).fit()\n",
    "print(P_model.summary())"
   ]
  },
  {
   "cell_type": "code",
   "execution_count": null,
   "metadata": {},
   "outputs": [],
   "source": [
    "train_score = []\n",
    "test_score = []\n",
    "for i in range(1,5):\n",
    "    lr = LinearRegression()\n",
    "    poly =  PolynomialFeatures(degree = i)\n",
    "    x_poly = poly.fit_transform(X)\n",
    "    test_x = poly.fit_transform(test_X)\n",
    "    lr.fit(x_poly,y)\n",
    "    train_score.append(lr.score(x_poly,y))\n",
    "    test_score.append(lr.score(test_x,test_y))\n",
    "    print(\"score for degree {} is {}\".format(i,lr.score(x_poly,y)))\n",
    "    print(\"test score = {}\".format(lr.score(test_x,test_y)))\n",
    "    print()"
   ]
  },
  {
   "cell_type": "code",
   "execution_count": null,
   "metadata": {},
   "outputs": [],
   "source": [
    "plt.figure(figsize=(10,7))\n",
    "plt.plot(list(range(1,5)),train_score,c=\"blue\", label = \"Training Error\")\n",
    "plt.plot(list(range(1,5)),test_score,c=\"green\", label = \"Test Error\")\n",
    "\n",
    "plt.xlabel(\"Polynomial Degree\")\n",
    "plt.ylabel(\"R-squared value [score]\")\n",
    "plt.legend()\n",
    "plt.show()"
   ]
  },
  {
   "cell_type": "markdown",
   "metadata": {},
   "source": [
    "It is clear from the above curve that the training error is increasing as the polynomial degree is increasing, but the test error is decreasing. so we can consider the model with polynomial degree 3"
   ]
  }
 ],
 "metadata": {
  "colab": {
   "name": "CE5390 MLR.ipynb",
   "provenance": []
  },
  "kernelspec": {
   "display_name": "Python 3",
   "language": "python",
   "name": "python3"
  },
  "language_info": {
   "codemirror_mode": {
    "name": "ipython",
    "version": 3
   },
   "file_extension": ".py",
   "mimetype": "text/x-python",
   "name": "python",
   "nbconvert_exporter": "python",
   "pygments_lexer": "ipython3",
   "version": "3.8.5"
  }
 },
 "nbformat": 4,
 "nbformat_minor": 1
}
